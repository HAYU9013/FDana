{
 "cells": [
  {
   "cell_type": "code",
   "execution_count": 55,
   "metadata": {},
   "outputs": [],
   "source": [
    "import requests\n",
    "import generate\n",
    "import organize_data\n",
    "import os"
   ]
  },
  {
   "cell_type": "markdown",
   "metadata": {},
   "source": [
    "# before start"
   ]
  },
  {
   "cell_type": "code",
   "execution_count": null,
   "metadata": {},
   "outputs": [],
   "source": [
    "import os\n",
    "from PIL import Image\n",
    "\n",
    "def resize_and_rename_images(input_path, output_path, prefix):\n",
    "    # 確保輸出路徑存在\n",
    "    if not os.path.exists(output_path):\n",
    "        os.makedirs(output_path)\n",
    "    \n",
    "    # 獲取輸入路徑中的所有檔案\n",
    "    files = os.listdir(input_path)\n",
    "    image_files = [f for f in files if f.lower().endswith(('png', 'jpg', 'jpeg', 'bmp', 'gif', 'webp'))]\n",
    "    \n",
    "    for i, file in enumerate(image_files):\n",
    "        img = Image.open(os.path.join(input_path, file))\n",
    "        img = img.resize((512, 512), Image.ANTIALIAS)\n",
    "        new_filename = f\"{prefix}{i+1}.png\"\n",
    "        img.save(os.path.join(output_path, new_filename), 'PNG')\n",
    "\n",
    "# 使用範例\n",
    "input_path = 'path/to/your/input/directory'\n",
    "output_path = 'path/to/your/output/directory'\n",
    "prefix = 'image_'\n",
    "resize_and_rename_images(input_path, output_path, prefix)"
   ]
  },
  {
   "cell_type": "markdown",
   "metadata": {},
   "source": [
    "# Utli"
   ]
  },
  {
   "cell_type": "code",
   "execution_count": 56,
   "metadata": {},
   "outputs": [],
   "source": [
    "def get_queue_amount():\n",
    "    # Make a GET request to the specified URL\n",
    "    response = requests.get(\"http://127.0.0.1:8188/queue\")\n",
    "\n",
    "    # Check if the request was successful\n",
    "    if response.status_code == 200:\n",
    "        data = response.json()\n",
    "        # Calculate the sum of \"queue_running\" and \"queue_pending\"\n",
    "        total = len(data[\"queue_running\"]) + len(data[\"queue_pending\"])\n",
    "        return total\n",
    "    else:\n",
    "        print(f\"Failed to retrieve data. Status code: {response.status_code}\")\n",
    "        return -1\n"
   ]
  },
  {
   "cell_type": "code",
   "execution_count": 57,
   "metadata": {},
   "outputs": [],
   "source": [
    "def get_image_names(input_image_prefix = 'DALLE'):\n",
    "    input_directory = '../../myComfyUI/input'\n",
    "    image_extensions = ('.png', '.jpg', '.jpeg', '.bmp', '.gif', '.webp')\n",
    "\n",
    "    # Get all image names in the input directory\n",
    "    image_names = [f for f in os.listdir(input_directory) if f.lower().endswith(image_extensions)]\n",
    "\n",
    "\n",
    "    image_names = [name for name in image_names if name.startswith(input_image_prefix)]\n",
    "\n",
    "    print(image_names)\n",
    "    return image_names\n"
   ]
  },
  {
   "cell_type": "code",
   "execution_count": 58,
   "metadata": {},
   "outputs": [
    {
     "name": "stdout",
     "output_type": "stream",
     "text": [
      "['DALLEBuilding.png', 'DALLECar.png', 'DALLECar2.png', 'DALLEFish.png', 'DALLEFish.webp', 'DALLEForst.png', 'DALLETree.png']\n",
      "['DALLEBuilding.png', 'DALLECar.png', 'DALLECar2.png', 'DALLEFish.png', 'DALLEFish.webp', 'DALLEForst.png', 'DALLETree.png']\n"
     ]
    }
   ],
   "source": [
    "print(get_image_names())"
   ]
  },
  {
   "cell_type": "code",
   "execution_count": 60,
   "metadata": {},
   "outputs": [
    {
     "name": "stdout",
     "output_type": "stream",
     "text": [
      "200\n",
      "{'prompt_id': 'de695798-3c13-4889-b083-9865783bf4c5', 'number': 252, 'node_errors': {}}\n",
      "Step 1 done\n",
      "200\n",
      "{'prompt_id': '3f24bab0-a5ef-4527-8714-b878e03b666d', 'number': 253, 'node_errors': {}}\n",
      "Step 2 done\n",
      "200\n",
      "{'prompt_id': 'f7923952-eb76-497c-be6d-67678f1f7bf5', 'number': 254, 'node_errors': {}}\n",
      "Step 3 done\n",
      "200\n",
      "{'prompt_id': '6fb2e76a-4a24-47c5-8490-f7f28e3590c3', 'number': 255, 'node_errors': {}}\n",
      "Step 4 done\n",
      "200\n",
      "{'prompt_id': 'f076d9ff-6b7d-4c8d-91b8-03f85dc0477f', 'number': 256, 'node_errors': {}}\n",
      "Step 5 done\n",
      "200\n",
      "{'prompt_id': '0c870346-1fac-476b-9a04-c0b11ddcf9e9', 'number': 257, 'node_errors': {}}\n",
      "Step 6 done\n",
      "200\n",
      "{'prompt_id': '54b7bf6b-5de9-4635-933b-0f5117a12718', 'number': 258, 'node_errors': {}}\n",
      "Step 7 done\n",
      "200\n",
      "{'prompt_id': 'd2c236c7-edbf-4e1e-9521-21d0b29a4672', 'number': 259, 'node_errors': {}}\n",
      "Step 8 done\n",
      "200\n",
      "{'prompt_id': '5a134d31-c3f3-42b3-b8c0-0a68e46193c2', 'number': 260, 'node_errors': {}}\n",
      "Step 9 done\n",
      "200\n",
      "{'prompt_id': '4662b4a8-3156-4f92-a173-2375ac1d6887', 'number': 261, 'node_errors': {}}\n",
      "Step 10 done\n",
      "200\n",
      "{'prompt_id': 'ea0a0406-233a-4c2b-81a4-bf0a6ae59129', 'number': 262, 'node_errors': {}}\n",
      "Step 11 done\n",
      "200\n",
      "{'prompt_id': '02c4bcf7-8b30-4d7f-be97-1f1ba94c2f08', 'number': 263, 'node_errors': {}}\n",
      "Step 12 done\n",
      "200\n",
      "{'prompt_id': '1fa31bb6-9da0-4722-855b-bbe3e030f165', 'number': 264, 'node_errors': {}}\n",
      "Step 13 done\n",
      "200\n",
      "{'prompt_id': '35e19f4a-1381-487b-a0a1-d4b2bfd5c232', 'number': 265, 'node_errors': {}}\n",
      "Step 14 done\n",
      "200\n",
      "{'prompt_id': '371e7b14-8450-417a-afe2-34f97ac15f99', 'number': 266, 'node_errors': {}}\n",
      "Step 15 done\n",
      "200\n",
      "{'prompt_id': 'bfe28507-ae59-4012-8aaf-40069ad73c42', 'number': 267, 'node_errors': {}}\n",
      "Step 16 done\n",
      "200\n",
      "{'prompt_id': '5941d53b-2e1f-4718-bf05-9381c0a37b19', 'number': 268, 'node_errors': {}}\n",
      "Step 17 done\n",
      "200\n",
      "{'prompt_id': '2ab4dbdd-417f-4134-a2e6-99777b27e06d', 'number': 269, 'node_errors': {}}\n",
      "Step 18 done\n",
      "not done yet\n",
      "not done yet\n",
      "not done yet\n",
      "not done yet\n",
      "not done yet\n",
      "not done yet\n",
      "not done yet\n",
      "not done yet\n",
      "not done yet\n",
      "not done yet\n",
      "not done yet\n",
      "not done yet\n",
      "not done yet\n",
      "not done yet\n",
      "not done yet\n",
      "not done yet\n",
      "done\n"
     ]
    }
   ],
   "source": [
    "generate.generate_target(target=\"DALLECar2.png\")\n",
    "\n",
    "from time import sleep\n",
    "\n",
    "while(get_queue_amount() > 0):\n",
    "    print(\"not done yet\")\n",
    "    sleep(10)\n",
    "    \n",
    "print(\"done\")\n",
    "organize_data.organize_data(folder_name=\"DALLECar2.png\".split('.')[0], category=\"DALLE\")\n"
   ]
  },
  {
   "cell_type": "code",
   "execution_count": 39,
   "metadata": {},
   "outputs": [
    {
     "name": "stdout",
     "output_type": "stream",
     "text": [
      "18\n"
     ]
    }
   ],
   "source": [
    "print(get_queue_amount())"
   ]
  },
  {
   "cell_type": "code",
   "execution_count": null,
   "metadata": {},
   "outputs": [
    {
     "name": "stdout",
     "output_type": "stream",
     "text": [
      "not done yet\n",
      "not done yet\n",
      "not done yet\n",
      "not done yet\n",
      "not done yet\n",
      "not done yet\n",
      "not done yet\n",
      "not done yet\n",
      "not done yet\n",
      "not done yet\n",
      "not done yet\n",
      "not done yet\n",
      "not done yet\n",
      "not done yet\n",
      "not done yet\n",
      "done\n"
     ]
    }
   ],
   "source": []
  },
  {
   "cell_type": "code",
   "execution_count": null,
   "metadata": {},
   "outputs": [],
   "source": []
  }
 ],
 "metadata": {
  "kernelspec": {
   "display_name": "comfy",
   "language": "python",
   "name": "python3"
  },
  "language_info": {
   "codemirror_mode": {
    "name": "ipython",
    "version": 3
   },
   "file_extension": ".py",
   "mimetype": "text/x-python",
   "name": "python",
   "nbconvert_exporter": "python",
   "pygments_lexer": "ipython3",
   "version": "3.12.8"
  }
 },
 "nbformat": 4,
 "nbformat_minor": 2
}
