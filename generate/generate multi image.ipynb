{
 "cells": [
  {
   "cell_type": "code",
   "execution_count": 55,
   "metadata": {},
   "outputs": [],
   "source": [
    "import requests\n",
    "import generate\n",
    "import organize_data\n",
    "import os"
   ]
  },
  {
   "cell_type": "markdown",
   "metadata": {},
   "source": [
    "# before start"
   ]
  },
  {
   "cell_type": "code",
   "execution_count": null,
   "metadata": {},
   "outputs": [],
   "source": [
    "import os\n",
    "from PIL import Image\n",
    "\n",
    "def resize_and_rename_images(input_path, output_path, prefix):\n",
    "    # 確保輸出路徑存在\n",
    "    if not os.path.exists(output_path):\n",
    "        os.makedirs(output_path)\n",
    "    \n",
    "    # 獲取輸入路徑中的所有檔案\n",
    "    files = os.listdir(input_path)\n",
    "    image_files = [f for f in files if f.lower().endswith(('png', 'jpg', 'jpeg', 'bmp', 'gif', 'webp'))]\n",
    "    \n",
    "    for i, file in enumerate(image_files):\n",
    "        img = Image.open(os.path.join(input_path, file))\n",
    "        img = img.resize((512, 512), Image.ANTIALIAS)\n",
    "        new_filename = f\"{prefix}{i+1}.png\"\n",
    "        img.save(os.path.join(output_path, new_filename), 'PNG')\n",
    "\n",
    "# 使用範例\n",
    "input_path = 'path/to/your/input/directory'\n",
    "output_path = 'path/to/your/output/directory'\n",
    "prefix = 'image_'\n",
    "resize_and_rename_images(input_path, output_path, prefix)"
   ]
  },
  {
   "cell_type": "markdown",
   "metadata": {},
   "source": [
    "# Utli"
   ]
  },
  {
   "cell_type": "code",
   "execution_count": 56,
   "metadata": {},
   "outputs": [],
   "source": [
    "def get_queue_amount():\n",
    "    # Make a GET request to the specified URL\n",
    "    response = requests.get(\"http://127.0.0.1:8188/queue\")\n",
    "\n",
    "    # Check if the request was successful\n",
    "    if response.status_code == 200:\n",
    "        data = response.json()\n",
    "        # Calculate the sum of \"queue_running\" and \"queue_pending\"\n",
    "        total = len(data[\"queue_running\"]) + len(data[\"queue_pending\"])\n",
    "        return total\n",
    "    else:\n",
    "        print(f\"Failed to retrieve data. Status code: {response.status_code}\")\n",
    "        return -1\n"
   ]
  },
  {
   "cell_type": "code",
   "execution_count": 57,
   "metadata": {},
   "outputs": [],
   "source": [
    "def get_image_names(input_image_prefix = 'DALLE'):\n",
    "    input_directory = '../../myComfyUI/input'\n",
    "    image_extensions = ('.png', '.jpg', '.jpeg', '.bmp', '.gif', '.webp')\n",
    "\n",
    "    # Get all image names in the input directory\n",
    "    image_names = [f for f in os.listdir(input_directory) if f.lower().endswith(image_extensions)]\n",
    "\n",
    "\n",
    "    image_names = [name for name in image_names if name.startswith(input_image_prefix)]\n",
    "\n",
    "    print(image_names)\n",
    "    return image_names\n"
   ]
  },
  {
   "cell_type": "code",
   "execution_count": 58,
   "metadata": {},
   "outputs": [
    {
     "name": "stdout",
     "output_type": "stream",
     "text": [
      "['DALLEBuilding.png', 'DALLECar.png', 'DALLECar2.png', 'DALLEFish.png', 'DALLEFish.webp', 'DALLEForst.png', 'DALLETree.png']\n",
      "['DALLEBuilding.png', 'DALLECar.png', 'DALLECar2.png', 'DALLEFish.png', 'DALLEFish.webp', 'DALLEForst.png', 'DALLETree.png']\n"
     ]
    }
   ],
   "source": [
    "print(get_image_names())"
   ]
  },
  {
   "cell_type": "code",
   "execution_count": 61,
   "metadata": {},
   "outputs": [],
   "source": [
    "def generate_target_and_organize(target_image_name, category = 'DALLE'):\n",
    "    generate.generate_target(target=target_image_name)\n",
    "\n",
    "    from time import sleep\n",
    "\n",
    "    while(get_queue_amount() > 0):\n",
    "        print(\"not done yet\")\n",
    "        sleep(10)\n",
    "        \n",
    "    print(\"done\")\n",
    "    organize_data.organize_data(folder_name=target_image_name.split('.')[0], category=category)\n"
   ]
  },
  {
   "cell_type": "code",
   "execution_count": null,
   "metadata": {},
   "outputs": [],
   "source": [
    "def generate_by_category(category):\n",
    "    image_names = get_image_names()\n",
    "    for image_name in image_names:\n",
    "        generate_target_and_organize(image_name, category)"
   ]
  },
  {
   "cell_type": "code",
   "execution_count": null,
   "metadata": {},
   "outputs": [
    {
     "name": "stdout",
     "output_type": "stream",
     "text": [
      "18\n"
     ]
    }
   ],
   "source": [
    "categories = [\"DALLE\", \"SD\"]\n",
    "for category in categories:\n",
    "    generate_by_category(category)"
   ]
  },
  {
   "cell_type": "code",
   "execution_count": null,
   "metadata": {},
   "outputs": [
    {
     "name": "stdout",
     "output_type": "stream",
     "text": [
      "not done yet\n",
      "not done yet\n",
      "not done yet\n",
      "not done yet\n",
      "not done yet\n",
      "not done yet\n",
      "not done yet\n",
      "not done yet\n",
      "not done yet\n",
      "not done yet\n",
      "not done yet\n",
      "not done yet\n",
      "not done yet\n",
      "not done yet\n",
      "not done yet\n",
      "done\n"
     ]
    }
   ],
   "source": []
  },
  {
   "cell_type": "code",
   "execution_count": null,
   "metadata": {},
   "outputs": [],
   "source": []
  }
 ],
 "metadata": {
  "kernelspec": {
   "display_name": "comfy",
   "language": "python",
   "name": "python3"
  },
  "language_info": {
   "codemirror_mode": {
    "name": "ipython",
    "version": 3
   },
   "file_extension": ".py",
   "mimetype": "text/x-python",
   "name": "python",
   "nbconvert_exporter": "python",
   "pygments_lexer": "ipython3",
   "version": "3.12.8"
  }
 },
 "nbformat": 4,
 "nbformat_minor": 2
}
